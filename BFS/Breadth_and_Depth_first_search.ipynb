{
  "nbformat": 4,
  "nbformat_minor": 0,
  "metadata": {
    "colab": {
      "provenance": []
    },
    "kernelspec": {
      "name": "python3",
      "display_name": "Python 3"
    },
    "language_info": {
      "name": "python"
    }
  },
  "cells": [
    {
      "cell_type": "markdown",
      "source": [
        "Breadth first searching"
      ],
      "metadata": {
        "id": "EcpNPP4yQr4B"
      }
    },
    {
      "cell_type": "code",
      "execution_count": 1,
      "metadata": {
        "colab": {
          "base_uri": "https://localhost:8080/"
        },
        "id": "52gSqzI9Qg9-",
        "outputId": "a24d5581-0f67-43cd-81fd-bb32e9567673"
      },
      "outputs": [
        {
          "output_type": "stream",
          "name": "stdout",
          "text": [
            "Following is Breadth First Traversal\n",
            "2 0 3 1 "
          ]
        }
      ],
      "source": [
        "from collections import defaultdict\n",
        "\n",
        "class Graph:\n",
        "\n",
        "\tdef __init__(self):\n",
        "\t\tself.graph = defaultdict(list)\n",
        "\n",
        "\tdef addEdge(self,u,v):\n",
        "\t\tself.graph[u].append(v)\n",
        "\n",
        "\tdef BFS(self, s):\n",
        "\t\tvisited = [False] * (len(self.graph))\n",
        "\t\tqueue = []\n",
        "\n",
        "\t\tqueue.append(s)\n",
        "\t\tvisited[s] = True\n",
        "\n",
        "\t\twhile queue:\n",
        "\n",
        "\t\t\ts = queue.pop(0)\n",
        "\t\t\tprint (s, end = \" \")\n",
        "\n",
        "\t\t\tfor i in self.graph[s]:\n",
        "\t\t\t\tif visited[i] == False:\n",
        "\t\t\t\t\tqueue.append(i)\n",
        "\t\t\t\t\tvisited[i] = True\n",
        "\n",
        "g = Graph()\n",
        "g.addEdge(0, 1)\n",
        "g.addEdge(0, 2)\n",
        "g.addEdge(1, 2)\n",
        "g.addEdge(2, 0)\n",
        "g.addEdge(2, 3)\n",
        "g.addEdge(3, 3)\n",
        "\n",
        "print (\"Following is Breadth First Traversal\")\n",
        "g.BFS(2)"
      ]
    },
    {
      "cell_type": "markdown",
      "source": [
        "Depth First Searching"
      ],
      "metadata": {
        "id": "1VeC5NduQvho"
      }
    },
    {
      "cell_type": "code",
      "source": [
        "from collections import defaultdict\n",
        "\n",
        "class Graph:\n",
        "\n",
        "\tdef __init__(self):\n",
        "\n",
        "\t\tself.graph = defaultdict(list)\n",
        "\n",
        "\tdef addEdge(self,u,v):\n",
        "\t\tself.graph[u].append(v)\n",
        "\n",
        "\tdef DFSUtil(self, v, visited):\n",
        "\n",
        "\t\tvisited[v]= True\n",
        "\t\tprint(v)\n",
        "\n",
        "\t\tfor i in self.graph[v]:\n",
        "\t\t\tif visited[i] == False:\n",
        "\t\t\t\tself.DFSUtil(i, visited)\n",
        "\n",
        "\tdef DFS(self):\n",
        "\t\tV = len(self.graph)\n",
        "\n",
        "\t\tvisited =[False]*(V)\n",
        "\n",
        "\t\tfor i in range(V):\n",
        "\t\t\tif visited[i] == False:\n",
        "\t\t\t\tself.DFSUtil(i, visited)\n",
        "\n",
        "g = Graph()\n",
        "g.addEdge(0, 1)\n",
        "g.addEdge(0, 2)\n",
        "g.addEdge(1, 2)\n",
        "g.addEdge(2, 0)\n",
        "g.addEdge(2, 3)\n",
        "g.addEdge(3, 3)\n",
        "\n",
        "print (\"Following is Depth First Traversal\")\n",
        "g.DFS()"
      ],
      "metadata": {
        "id": "x_k3CCBiQxDU",
        "outputId": "dccd8fe9-7aba-4c29-d06d-5f7f6d8edcf9",
        "colab": {
          "base_uri": "https://localhost:8080/"
        }
      },
      "execution_count": 2,
      "outputs": [
        {
          "output_type": "stream",
          "name": "stdout",
          "text": [
            "Following is Depth First Traversal\n",
            "0\n",
            "1\n",
            "2\n",
            "3\n"
          ]
        }
      ]
    }
  ]
}